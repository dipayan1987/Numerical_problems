{
 "cells": [
  {
   "cell_type": "code",
   "execution_count": 1,
   "metadata": {},
   "outputs": [],
   "source": [
    "#Computational Physics\n",
    "\n",
    "#09/17/2016\n",
    "\n",
    "\n",
    "import math\n",
    "import numpy as np\n",
    "import pandas as pd"
   ]
  },
  {
   "cell_type": "code",
   "execution_count": 2,
   "metadata": {},
   "outputs": [],
   "source": [
    "# How to calculate simple derivative at a point"
   ]
  },
  {
   "cell_type": "code",
   "execution_count": 3,
   "metadata": {},
   "outputs": [],
   "source": [
    "class derivative:\n",
    "    def __init__(self,func, h = 1e-5):\n",
    "        self.f=func\n",
    "        self.dif=h\n",
    "    def __call__(self, x_var):\n",
    "        func=self.f\n",
    "        h=self.dif\n",
    "        return (func(x_var+h)-func(x_var))/h"
   ]
  },
  {
   "cell_type": "code",
   "execution_count": 4,
   "metadata": {},
   "outputs": [
    {
     "data": {
      "text/plain": [
       "0.4000099999998396"
      ]
     },
     "execution_count": 4,
     "metadata": {},
     "output_type": "execute_result"
    }
   ],
   "source": [
    "def fun(x):\n",
    "    return x**2\n",
    "df=derivative(fun)\n",
    "df(0.2)"
   ]
  },
  {
   "cell_type": "code",
   "execution_count": 5,
   "metadata": {},
   "outputs": [],
   "source": [
    "# Numerical Integration using simpson 1/3 and trapozoidal mathods. Numerical integration methods are the attributes of class:"
   ]
  },
  {
   "cell_type": "code",
   "execution_count": 6,
   "metadata": {},
   "outputs": [],
   "source": [
    "#The following class integrate a function func using simpson1/3 or trapozoidal.\n",
    "#To add more methods, you need to define methods inside the class.\n",
    "#Integration limit xo = start_val to xf = final_val, no of iteration N\n",
    "\n",
    "class Integration_1D:\n",
    "    def __init__(self, func, start_val,final_val, N=1000):\n",
    "        self.f=func\n",
    "        self.x0=start_val\n",
    "        self.xf=final_val\n",
    "        self.n=N\n",
    "        self.dx=(final_val-start_val)/float(self.n)\n",
    "    def trapozoidal(self):\n",
    "        I = 0.5*self.f(self.x0)\n",
    "        for i in range(1,self.n-1,1):\n",
    "            I+=self.f(self.x0+(i*self.dx))\n",
    "        I +=0.5*self.f(self.xf)\n",
    "        I *= self.dx\n",
    "        return I\n",
    "    def simpson1_3(self):\n",
    "        num=float(1.0/3.0)        \n",
    "        I = self.f(self.x0)\n",
    "        I +=self.f(self.xf) \n",
    "        for i in np.arange(1,(self.n /2)+1,1):\n",
    "            I+=4.0*self.f(self.x0+(((2*i)-1)*self.dx))\n",
    "            I+=2.0*self.f(self.x0+(((2*i)-2)*self.dx))\n",
    "        I *= num*self.dx\n",
    "        return I"
   ]
  },
  {
   "cell_type": "code",
   "execution_count": 7,
   "metadata": {},
   "outputs": [
    {
     "name": "stdout",
     "output_type": "stream",
     "text": [
      "0.332335499 0.33333333333333315\n"
     ]
    }
   ],
   "source": [
    "def fun(x):\n",
    "    return x**2\n",
    "integ = Integration_1D(fun,0.0,1.0)\n",
    "print(integ.trapozoidal(),integ.simpson1_3())"
   ]
  },
  {
   "cell_type": "code",
   "execution_count": 8,
   "metadata": {},
   "outputs": [],
   "source": [
    "# Lets try a little different way (using __call__() DUNDER method)"
   ]
  },
  {
   "cell_type": "code",
   "execution_count": 9,
   "metadata": {},
   "outputs": [],
   "source": [
    "def trapozoidal_v2(f,x0,xf,N):\n",
    "    dx=(xf-x0)/N\n",
    "    I = f(x0)\n",
    "    I+=f(xf)\n",
    "    for i in range(1,N-1,1):\n",
    "        I+=2.0*f(x0+(i*dx))\n",
    "    I *= 0.5*dx\n",
    "    return I"
   ]
  },
  {
   "cell_type": "code",
   "execution_count": 10,
   "metadata": {},
   "outputs": [],
   "source": [
    "def simpson1_3_v2(f,x0,xf,N):\n",
    "    dx=(xf-x0)/N\n",
    "    I = f(x0)\n",
    "    I +=f(xf) \n",
    "    for i in np.arange(1,(N/2)+1,1):\n",
    "        I+=4.0*f(x0+(((2*i)-1)*dx))\n",
    "        I+=2.0*f(x0+(((2*i)-2)*dx))\n",
    "    I *= float(1.0/3.0)*dx\n",
    "    return I"
   ]
  },
  {
   "cell_type": "code",
   "execution_count": 11,
   "metadata": {},
   "outputs": [],
   "source": [
    "#The following class integrate a function func using f_method's (simpson1/3 or trapozoidal. You can add more methods outside the class)\n",
    "#Integration limit xo = start_val to xf = final_val, no of iteration N\n",
    "class Integration_1D_v2:\n",
    "    def __init__(self, func, start_val,final_val, N=1000):\n",
    "        self.f=func\n",
    "        self.x0=start_val\n",
    "        self.xf=final_val\n",
    "        self.n=N\n",
    "        \n",
    "    def __call__(self,f_method):\n",
    "        self.f2=f_method\n",
    "        return self.f2(self.f,self.x0,self.xf,self.n)"
   ]
  },
  {
   "cell_type": "code",
   "execution_count": 12,
   "metadata": {},
   "outputs": [],
   "source": [
    "#function to be integrated\n",
    "\n",
    "def fun2(x):\n",
    "    return x**2"
   ]
  },
  {
   "cell_type": "code",
   "execution_count": 13,
   "metadata": {},
   "outputs": [],
   "source": [
    "df=Integration_1D_v2(fun2,0.0,1.0)"
   ]
  },
  {
   "cell_type": "code",
   "execution_count": 14,
   "metadata": {},
   "outputs": [
    {
     "data": {
      "text/plain": [
       "(0.332335499, 0.33333333333333315)"
      ]
     },
     "execution_count": 14,
     "metadata": {},
     "output_type": "execute_result"
    }
   ],
   "source": [
    "df(trapozoidal_v2),df(simpson1_3_v2)"
   ]
  }
 ],
 "metadata": {
  "kernelspec": {
   "display_name": "Python 3",
   "language": "python",
   "name": "python3"
  },
  "language_info": {
   "codemirror_mode": {
    "name": "ipython",
    "version": 3
   },
   "file_extension": ".py",
   "mimetype": "text/x-python",
   "name": "python",
   "nbconvert_exporter": "python",
   "pygments_lexer": "ipython3",
   "version": "3.7.9"
  }
 },
 "nbformat": 4,
 "nbformat_minor": 4
}
